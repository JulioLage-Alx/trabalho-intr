{
 "cells": [
  {
   "cell_type": "code",
   "execution_count": 1,
   "metadata": {},
   "outputs": [],
   "source": [
    "import pandas as pd\n"
   ]
  },
  {
   "cell_type": "code",
   "execution_count": 6,
   "metadata": {},
   "outputs": [
    {
     "name": "stdout",
     "output_type": "stream",
     "text": [
      "        status accident_index  accident_year accident_reference  \\\n",
      "0  Unvalidated  2022070151244           2022          070151244   \n",
      "1  Unvalidated  2022070152668           2022          070152668   \n",
      "2  Unvalidated  2022070154696           2022          070154696   \n",
      "3  Unvalidated  2022070154696           2022          070154696   \n",
      "4  Unvalidated  2022070154696           2022          070154696   \n",
      "\n",
      "   vehicle_reference  casualty_reference  casualty_class  sex_of_casualty  \\\n",
      "0                  2                   1               1                2   \n",
      "1                  1                   1               1                1   \n",
      "2                  1                   1               1                2   \n",
      "3                  2                   3               1                2   \n",
      "4                  3                   2               1                1   \n",
      "\n",
      "   age_of_casualty  age_band_of_casualty  casualty_severity  \\\n",
      "0               46                     8                  3   \n",
      "1               30                     6                  3   \n",
      "2               58                     9                  3   \n",
      "3               78                    11                  3   \n",
      "4               63                     9                  3   \n",
      "\n",
      "   pedestrian_location  pedestrian_movement  car_passenger  \\\n",
      "0                    0                    0              0   \n",
      "1                    0                    0              0   \n",
      "2                    0                    0              0   \n",
      "3                    0                    0              0   \n",
      "4                    0                    0              0   \n",
      "\n",
      "   bus_or_coach_passenger  pedestrian_road_maintenance_worker  casualty_type  \\\n",
      "0                       0                                   0              9   \n",
      "1                       0                                   0              9   \n",
      "2                       0                                   0              9   \n",
      "3                       0                                   0              9   \n",
      "4                       0                                   0              9   \n",
      "\n",
      "   casualty_home_area_type  casualty_imd_decile lsoa_of_casualty  \n",
      "0                        1                    9        E01033378  \n",
      "1                        1                    2        E01018551  \n",
      "2                        1                   10        E01006134  \n",
      "3                        2                   10        E01018724  \n",
      "4                        3                    7        W01000578  \n"
     ]
    }
   ],
   "source": [
    "#!Leia o dataset CSV para um DataFrame\n",
    "df = pd.read_csv('dft-road-casualty-statistics-casualty-provisional-mid-year-unvalidated-2022 (1).csv')\n",
    "\n",
    "#Exiba as primeiras 5 linhas do dataset\n",
    "print(df.head())"
   ]
  }
 ],
 "metadata": {
  "kernelspec": {
   "display_name": "Python 3",
   "language": "python",
   "name": "python3"
  },
  "language_info": {
   "codemirror_mode": {
    "name": "ipython",
    "version": 3
   },
   "file_extension": ".py",
   "mimetype": "text/x-python",
   "name": "python",
   "nbconvert_exporter": "python",
   "pygments_lexer": "ipython3",
   "version": "3.12.3"
  }
 },
 "nbformat": 4,
 "nbformat_minor": 2
}
