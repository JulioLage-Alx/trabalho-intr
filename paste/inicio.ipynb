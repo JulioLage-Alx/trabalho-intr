{
 "cells": [
  {
   "cell_type": "code",
   "execution_count": 4,
   "metadata": {},
   "outputs": [],
   "source": [
    "# Importação de Bibliotecas\n",
    "import pandas as pd\n",
    "import numpy as np\n",
    "import altair as alt\n",
    "import seaborn as sns\n",
    "import matplotlib.pyplot as plt"
   ]
  },
  {
   "cell_type": "code",
   "execution_count": 5,
   "metadata": {},
   "outputs": [],
   "source": [
    "# Carregar e Preparar os Dados\n",
    "pd.set_option('display.max_rows', None)\n",
    "pd.set_option('display.max_columns', None)\n",
    "df = pd.read_csv(\"DATA.csv\")"
   ]
  },
  {
   "cell_type": "code",
   "execution_count": 6,
   "metadata": {},
   "outputs": [],
   "source": [
    "# Limpeza dos Dados\n",
    "df.dropna(inplace=True)\n",
    "df.drop_duplicates(inplace=True)\n"
   ]
  },
  {
   "cell_type": "code",
   "execution_count": 7,
   "metadata": {},
   "outputs": [],
   "source": [
    "# Mapeie os valores 1 para 'M' e 2 para 'F'\n",
    "df['sex_of_casualty'] = df['sex_of_casualty'].map({1: 'M', 2: 'F'})\n"
   ]
  },
  {
   "cell_type": "code",
   "execution_count": 11,
   "metadata": {},
   "outputs": [],
   "source": [
    "# Filtrar valores inválidos em 'sex_of_casualty' e 'age_band_of_casualty'\n",
    "df_filtered = df[(df['sex_of_casualty'] != -1) & (df['sex_of_casualty'] != 9) & (df['age_band_of_casualty'] != -1)]\n",
    "df_sampled = df_filtered"
   ]
  },
  {
   "cell_type": "markdown",
   "metadata": {},
   "source": [
    ">   # Pergunta Orientada a Dados: \"Quais são os padrões e tendências na gravidade dos acidentes de trânsito com base no perfil demográfico das vítimas (idade e sexo)?\"\n"
   ]
  },
  {
   "cell_type": "code",
   "execution_count": 13,
   "metadata": {},
   "outputs": [
    {
     "name": "stdout",
     "output_type": "stream",
     "text": [
      "Contagem de acidentes por gravidade e sexo:\n",
      "sex_of_casualty        F      M\n",
      "casualty_severity              \n",
      "1                    195    592\n",
      "2                   3748   7877\n",
      "3                  19072  28342\n",
      "\n",
      "Frequência relativa de acidentes por gravidade e sexo:\n",
      "sex_of_casualty            F          M\n",
      "casualty_severity                      \n",
      "1                  24.777637  75.222363\n",
      "2                  32.240860  67.759140\n",
      "3                  40.224406  59.775594\n"
     ]
    }
   ],
   "source": [
    "# Análise e Visualização da Gravidade dos Acidentes por Sexo\n",
    "severity_sex_contingency = pd.crosstab(df_filtered['casualty_severity'], df_filtered['sex_of_casualty'])\n",
    "severity_sex_rate = severity_sex_contingency.apply(lambda r: r/r.sum()*100, axis=1)\n",
    "print(\"Contagem de acidentes por gravidade e sexo:\")\n",
    "print(severity_sex_contingency)\n",
    "print(\"\\nFrequência relativa de acidentes por gravidade e sexo:\")\n",
    "print(severity_sex_rate)"
   ]
  },
  {
   "cell_type": "markdown",
   "metadata": {},
   "source": [
    ">   alt.Chart(df_filtered).mark_bar(): Cria um gráfico de barras usando o DataFrame filtrado.\n",
    ">   encode: Define os eixos x (sexo das vítimas) e y (contagem de acidentes) e a cor das barras (gravidade dos acidentes).\n",
    ">   properties: Define o título do gráfico.\n",
    ">   interactive(): Adiciona interatividade ao gráfico.\n",
    ">   display(): Exibe o gráfico."
   ]
  },
  {
   "cell_type": "code",
   "execution_count": null,
   "metadata": {},
   "outputs": [],
   "source": [
    "# Habilita o VegaFusion Data Transformer\n",
    "alt.data_transformers.enable('vegafusion')\n",
    "\n",
    "# ... (seu código para criar df_sampled OU df_agg, escolha um dos dois)\n",
    "\n",
    "# Cria o gráfico com os dados preparados (df_sampled ou df_agg)\n",
    "bar_chart_severity_sex = alt.Chart(df_sampled).mark_bar().encode(\n",
    "    x=alt.X('sex_of_casualty:N', axis=alt.Axis(labelAngle=-45), title='Sexo'),\n",
    "    y=alt.Y('count()', title='Contagem'),  # ou 'count:Q' se usar df_agg\n",
    "    color=alt.Color('casualty_severity:N', title='Gravidade'),\n",
    "    tooltip=['sex_of_casualty', 'casualty_severity', 'count()']  # ou 'count' se usar df_agg\n",
    ").properties(\n",
    "    title='Gravidade dos Acidentes por Sexo'\n",
    ").interactive()\n",
    "\n",
    "bar_chart_severity_sex.display()"
   ]
  },
  {
   "cell_type": "markdown",
   "metadata": {},
   "source": [
    ">    Similar à análise por sexo, mas agora agrupando por faixa etária (age_band_of_casualty)."
   ]
  },
  {
   "cell_type": "code",
   "execution_count": null,
   "metadata": {},
   "outputs": [],
   "source": [
    "# Análise e Visualização da Gravidade dos Acidentes por Faixa Etária\n",
    "severity_age_contingency = pd.crosstab(df_filtered['casualty_severity'], df_filtered['age_band_of_casualty'])\n",
    "severity_age_rate = severity_age_contingency.apply(lambda r: r/r.sum()*100, axis=1)\n",
    "print(\"Contagem de acidentes por gravidade e faixa etária:\")\n",
    "print(severity_age_contingency)\n",
    "print(\"\\nFrequência relativa de acidentes por gravidade e faixa etária:\")\n",
    "print(severity_age_rate)"
   ]
  },
  {
   "cell_type": "markdown",
   "metadata": {},
   "source": [
    ">   Similar ao gráfico de barras por sexo, mas agora agrupando por faixa etária (age_band_of_casualty)."
   ]
  },
  {
   "cell_type": "code",
   "execution_count": null,
   "metadata": {},
   "outputs": [],
   "source": [
    "\n",
    "# Gráfico de barras empilhadas para gravidade por faixa etária\n",
    "bar_chart_severity_age = alt.Chart(df_filtered).mark_bar().encode(\n",
    "    x=alt.X('age_band_of_casualty:N', axis=alt.Axis(labelAngle=-45), title='Faixa Etária'),\n",
    "    y=alt.Y('count()', title='Contagem'),\n",
    "    color=alt.Color('casualty_severity:N', title='Gravidade'),\n",
    "    tooltip=['age_band_of_casualty', 'casualty_severity', 'count()']\n",
    ").properties(\n",
    "    title='Gravidade dos Acidentes por Faixa Etária'\n",
    ").interactive()\n",
    "\n",
    "bar_chart_severity_age.display()"
   ]
  },
  {
   "cell_type": "markdown",
   "metadata": {},
   "source": [
    ">   groupby('casualty_severity')['age_of_casualty'].agg(['mean', 'std']): Agrupa os dados por gravidade (casualty_severity) e calcula a média e o desvio padrão da idade das vítimas (age_of_casualty).\n",
    ">   reset_index(): Reseta o índice do DataFrame para torná-lo mais legível.\n",
    ">   print: Exibe as estatísticas calculadas"
   ]
  },
  {
   "cell_type": "code",
   "execution_count": null,
   "metadata": {},
   "outputs": [],
   "source": [
    "# Medidas Estatísticas por Gravidade\n",
    "# Média e Desvio Padrão da Idade das Vítimas para Cada Nível de Gravidade\n",
    "severity_age_stats = df_filtered.groupby('casualty_severity')['age_of_casualty'].agg(['mean', 'std']).reset_index()\n",
    "print(\"\\nMédia e Desvio Padrão da Idade das Vítimas por Gravidade:\")\n",
    "print(severity_age_stats)\n"
   ]
  },
  {
   "cell_type": "markdown",
   "metadata": {},
   "source": [
    ">   plt.figure(figsize=(12, 6)): Cria uma figura com tamanho especificado.\n",
    ">   sns.barplot: Cria um gráfico de barras mostrando a média da idade das vítimas por gravidade.\n",
    ">   plt.errorbar: Adiciona barras de erro ao gráfico para representar o desvio padrão.\n",
    ">   plt.title, plt.xlabel, plt.ylabel: Define o título do gráfico e os rótulos dos eixos.\n",
    ">   plt.show(): Exibe o gráfico."
   ]
  },
  {
   "cell_type": "code",
   "execution_count": null,
   "metadata": {},
   "outputs": [],
   "source": [
    "# Visualização da Média e Desvio Padrão da Idade das Vítimas por Gravidade\n",
    "plt.figure(figsize=(12, 6))\n",
    "sns.barplot(x='casualty_severity', y='mean', data=severity_age_stats)\n",
    "plt.errorbar(x=range(len(severity_age_stats)), y=severity_age_stats['mean'], yerr=severity_age_stats['std'], fmt='none', c='black', capsize=5)\n",
    "plt.title('Média e Desvio Padrão da Idade das Vítimas por Gravidade')\n",
    "plt.xlabel('Gravidade')\n",
    "plt.ylabel('Idade Média das Vítimas')\n",
    "plt.show()"
   ]
  }
 ],
 "metadata": {
  "kernelspec": {
   "display_name": "Python 3",
   "language": "python",
   "name": "python3"
  },
  "language_info": {
   "codemirror_mode": {
    "name": "ipython",
    "version": 3
   },
   "file_extension": ".py",
   "mimetype": "text/x-python",
   "name": "python",
   "nbconvert_exporter": "python",
   "pygments_lexer": "ipython3",
   "version": "3.12.3"
  }
 },
 "nbformat": 4,
 "nbformat_minor": 2
}
