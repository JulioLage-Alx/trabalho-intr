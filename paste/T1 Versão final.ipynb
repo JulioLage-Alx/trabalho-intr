{
 "cells": [
  {
   "cell_type": "markdown",
   "metadata": {},
   "source": [
    ">   pandas (pd): Biblioteca principal para manipulação de dados.\n",
    ">   numpy (np): Biblioteca para operações numéricas.\n",
    ">   seaborn (sns): Biblioteca para visualização de dados.\n",
    ">   matplotlib.pyplot (plt): Biblioteca para criar gráficos.\n",
    ">   altair (alt): Biblioteca para visualização de dados interativos.\n"
   ]
  },
  {
   "cell_type": "code",
   "execution_count": 2,
   "metadata": {},
   "outputs": [],
   "source": [
    "# Importação de Bibliotecas\n",
    "import pandas as pd\n",
    "import numpy as np\n",
    "import altair as alt\n",
    "import seaborn as sns\n",
    "import matplotlib.pyplot as plt"
   ]
  },
  {
   "cell_type": "markdown",
   "metadata": {},
   "source": [
    ">   pd.set_option: Configura o Pandas para exibir todas as linhas e colunas do DataFrame.\n",
    "> df = pd.read_csv(\"data.csv\"): Carrega o dataset \"data.csv\" em um DataFrame chamado df."
   ]
  },
  {
   "cell_type": "code",
   "execution_count": 3,
   "metadata": {},
   "outputs": [],
   "source": [
    "\n",
    "df = pd.read_csv(\"data.csv\")"
   ]
  },
  {
   "cell_type": "markdown",
   "metadata": {},
   "source": [
    ">   df.dropna(inplace=True): Remove todas as linhas com valores ausentes.\n",
    ">   df.drop_duplicates(inplace=True): Remove todas as linhas duplicadas."
   ]
  },
  {
   "cell_type": "code",
   "execution_count": null,
   "metadata": {},
   "outputs": [],
   "source": [
    "# Limpeza dos Dados\n",
    "df.dropna(inplace=True)\n",
    "df.drop_duplicates(inplace=True)\n"
   ]
  },
  {
   "cell_type": "markdown",
   "metadata": {},
   "source": [
    ">   df['sex_of_casualty'].map({1: 'M', 2: 'F'}): Mapeia os valores da coluna sex_of_casualty de 1 para 'M' (Masculino) e 2 para 'F' (Feminino).\n",
    ">   df_filtered: Filtra o DataFrame para remover valores inválidos nas colunas sex_of_casualty e age_band_of_casualty."
   ]
  },
  {
   "cell_type": "code",
   "execution_count": null,
   "metadata": {},
   "outputs": [],
   "source": [
    "# Mapeie os valores 1 para 'M' e 2 para 'F'\n",
    "df['sex_of_casualty'] = df['sex_of_casualty'].map({1: 'M', 2: 'F'})\n"
   ]
  },
  {
   "cell_type": "code",
   "execution_count": 1,
   "metadata": {},
   "outputs": [
    {
     "ename": "NameError",
     "evalue": "name 'df' is not defined",
     "output_type": "error",
     "traceback": [
      "\u001b[1;31m---------------------------------------------------------------------------\u001b[0m",
      "\u001b[1;31mNameError\u001b[0m                                 Traceback (most recent call last)",
      "Cell \u001b[1;32mIn[1], line 2\u001b[0m\n\u001b[0;32m      1\u001b[0m \u001b[38;5;66;03m# Filtrar valores inválidos em 'sex_of_casualty' e 'age_band_of_casualty'\u001b[39;00m\n\u001b[1;32m----> 2\u001b[0m df_filtered \u001b[38;5;241m=\u001b[39m \u001b[43mdf\u001b[49m[(df[\u001b[38;5;124m'\u001b[39m\u001b[38;5;124msex_of_casualty\u001b[39m\u001b[38;5;124m'\u001b[39m] \u001b[38;5;241m!=\u001b[39m \u001b[38;5;241m-\u001b[39m\u001b[38;5;241m1\u001b[39m) \u001b[38;5;241m&\u001b[39m (df[\u001b[38;5;124m'\u001b[39m\u001b[38;5;124msex_of_casualty\u001b[39m\u001b[38;5;124m'\u001b[39m] \u001b[38;5;241m!=\u001b[39m \u001b[38;5;241m9\u001b[39m) \u001b[38;5;241m&\u001b[39m (df[\u001b[38;5;124m'\u001b[39m\u001b[38;5;124mage_band_of_casualty\u001b[39m\u001b[38;5;124m'\u001b[39m] \u001b[38;5;241m!=\u001b[39m \u001b[38;5;241m-\u001b[39m\u001b[38;5;241m1\u001b[39m)]\n\u001b[0;32m      3\u001b[0m df_sampled \u001b[38;5;241m=\u001b[39m df_filtered\n",
      "\u001b[1;31mNameError\u001b[0m: name 'df' is not defined"
     ]
    }
   ],
   "source": [
    "# Filtrar valores inválidos em 'sex_of_casualty' e 'age_band_of_casualty'\n",
    "df_filtered = df[(df['sex_of_casualty'] != -1) & (df['sex_of_casualty'] != 9) & (df['age_band_of_casualty'] != -1)]\n",
    "df_sampled = df_filtered"
   ]
  },
  {
   "cell_type": "markdown",
   "metadata": {},
   "source": [
    ">   # Pergunta Orientada a Dados: \"Quais são os padrões e tendências na gravidade dos acidentes de trânsito com base no perfil demográfico das vítimas (idade e sexo)?\"\n"
   ]
  },
  {
   "cell_type": "markdown",
   "metadata": {},
   "source": [
    ">   pd.crosstab: Cria uma tabela de contingência mostrando a contagem de acidentes por gravidade e sexo.\n",
    ">   apply(lambda r: r/r.sum()*100, axis=1): Calcula a frequência relativa de acidentes para cada nível de gravidade.\n",
    ">   print: Exibe a contagem absoluta e relativa dos acidentes."
   ]
  },
  {
   "cell_type": "code",
   "execution_count": null,
   "metadata": {},
   "outputs": [
    {
     "name": "stdout",
     "output_type": "stream",
     "text": [
      "Contagem de acidentes por gravidade e sexo:\n",
      "sex_of_casualty        F      M\n",
      "casualty_severity              \n",
      "1                    195    592\n",
      "2                   3748   7877\n",
      "3                  19072  28342\n",
      "\n",
      "Frequência relativa de acidentes por gravidade e sexo:\n",
      "sex_of_casualty            F          M\n",
      "casualty_severity                      \n",
      "1                  24.777637  75.222363\n",
      "2                  32.240860  67.759140\n",
      "3                  40.224406  59.775594\n"
     ]
    }
   ],
   "source": [
    "# Análise e Visualização da Gravidade dos Acidentes por Sexo\n",
    "severity_sex_contingency = pd.crosstab(df_filtered['casualty_severity'], df_filtered['sex_of_casualty'])\n",
    "severity_sex_rate = severity_sex_contingency.apply(lambda r: r/r.sum()*100, axis=1)\n",
    "print(\"Contagem de acidentes por gravidade e sexo:\")\n",
    "print(severity_sex_contingency)\n",
    "print(\"\\nFrequência relativa de acidentes por gravidade e sexo:\")\n",
    "print(severity_sex_rate)"
   ]
  },
  {
   "cell_type": "markdown",
   "metadata": {},
   "source": [
    ">   alt.Chart(df_filtered).mark_bar(): Cria um gráfico de barras usando o DataFrame filtrado.\n",
    ">   encode: Define os eixos x (sexo das vítimas) e y (contagem de acidentes) e a cor das barras (gravidade dos acidentes).\n",
    ">   properties: Define o título do gráfico.\n",
    ">   interactive(): Adiciona interatividade ao gráfico.\n",
    ">   display(): Exibe o gráfico."
   ]
  },
  {
   "cell_type": "code",
   "execution_count": null,
   "metadata": {},
   "outputs": [
    {
     "data": {
      "text/html": [
       "\n",
       "<style>\n",
       "  #altair-viz-c4278d0135b04d409383f8b0e92492ec.vega-embed {\n",
       "    width: 100%;\n",
       "    display: flex;\n",
       "  }\n",
       "\n",
       "  #altair-viz-c4278d0135b04d409383f8b0e92492ec.vega-embed details,\n",
       "  #altair-viz-c4278d0135b04d409383f8b0e92492ec.vega-embed details summary {\n",
       "    position: relative;\n",
       "  }\n",
       "</style>\n",
       "<div id=\"altair-viz-c4278d0135b04d409383f8b0e92492ec\"></div>\n",
       "<script type=\"text/javascript\">\n",
       "  var VEGA_DEBUG = (typeof VEGA_DEBUG == \"undefined\") ? {} : VEGA_DEBUG;\n",
       "  (function(spec, embedOpt){\n",
       "    let outputDiv = document.currentScript.previousElementSibling;\n",
       "    if (outputDiv.id !== \"altair-viz-c4278d0135b04d409383f8b0e92492ec\") {\n",
       "      outputDiv = document.getElementById(\"altair-viz-c4278d0135b04d409383f8b0e92492ec\");\n",
       "    }\n",
       "    const paths = {\n",
       "      \"vega\": \"https://cdn.jsdelivr.net/npm/vega@5?noext\",\n",
       "      \"vega-lib\": \"https://cdn.jsdelivr.net/npm/vega-lib?noext\",\n",
       "      \"vega-lite\": \"https://cdn.jsdelivr.net/npm/vega-lite@5.17.0?noext\",\n",
       "      \"vega-embed\": \"https://cdn.jsdelivr.net/npm/vega-embed@6?noext\",\n",
       "    };\n",
       "\n",
       "    function maybeLoadScript(lib, version) {\n",
       "      var key = `${lib.replace(\"-\", \"\")}_version`;\n",
       "      return (VEGA_DEBUG[key] == version) ?\n",
       "        Promise.resolve(paths[lib]) :\n",
       "        new Promise(function(resolve, reject) {\n",
       "          var s = document.createElement('script');\n",
       "          document.getElementsByTagName(\"head\")[0].appendChild(s);\n",
       "          s.async = true;\n",
       "          s.onload = () => {\n",
       "            VEGA_DEBUG[key] = version;\n",
       "            return resolve(paths[lib]);\n",
       "          };\n",
       "          s.onerror = () => reject(`Error loading script: ${paths[lib]}`);\n",
       "          s.src = paths[lib];\n",
       "        });\n",
       "    }\n",
       "\n",
       "    function showError(err) {\n",
       "      outputDiv.innerHTML = `<div class=\"error\" style=\"color:red;\">${err}</div>`;\n",
       "      throw err;\n",
       "    }\n",
       "\n",
       "    function displayChart(vegaEmbed) {\n",
       "      vegaEmbed(outputDiv, spec, embedOpt)\n",
       "        .catch(err => showError(`Javascript Error: ${err.message}<br>This usually means there's a typo in your chart specification. See the javascript console for the full traceback.`));\n",
       "    }\n",
       "\n",
       "    if(typeof define === \"function\" && define.amd) {\n",
       "      requirejs.config({paths});\n",
       "      require([\"vega-embed\"], displayChart, err => showError(`Error loading script: ${err.message}`));\n",
       "    } else {\n",
       "      maybeLoadScript(\"vega\", \"5\")\n",
       "        .then(() => maybeLoadScript(\"vega-lite\", \"5.17.0\"))\n",
       "        .then(() => maybeLoadScript(\"vega-embed\", \"6\"))\n",
       "        .catch(showError)\n",
       "        .then(() => displayChart(vegaEmbed));\n",
       "    }\n",
       "  })({\"$schema\": \"https://vega.github.io/schema/vega/v5.json\", \"data\": [{\"name\": \"param_7_store\"}, {\"name\": \"source_0\", \"values\": [{\"__count\": 2824, \"__count_end\": 2824.0, \"__count_start\": 0.0, \"casualty_severity\": 3, \"sex_of_casualty\": \"M\"}, {\"__count\": 816, \"__count_end\": 3640.0, \"__count_start\": 2824.0, \"casualty_severity\": 2, \"sex_of_casualty\": \"M\"}, {\"__count\": 1901, \"__count_end\": 1901.0, \"__count_start\": 0.0, \"casualty_severity\": 3, \"sex_of_casualty\": \"F\"}, {\"__count\": 364, \"__count_end\": 2265.0, \"__count_start\": 1901.0, \"casualty_severity\": 2, \"sex_of_casualty\": \"F\"}, {\"__count\": 58, \"__count_end\": 3698.0, \"__count_start\": 3640.0, \"casualty_severity\": 1, \"sex_of_casualty\": \"M\"}, {\"__count\": 18, \"__count_end\": 18.0, \"__count_start\": 0.0, \"casualty_severity\": 3, \"sex_of_casualty\": null}, {\"__count\": 17, \"__count_end\": 2282.0, \"__count_start\": 2265.0, \"casualty_severity\": 1, \"sex_of_casualty\": \"F\"}, {\"__count\": 2, \"__count_end\": 20.0, \"__count_start\": 18.0, \"casualty_severity\": 2, \"sex_of_casualty\": null}]}, {\"name\": \"source_0_x_domain_sex_of_casualty\", \"values\": [{\"sex_of_casualty\": \"M\"}, {\"sex_of_casualty\": \"F\"}, {\"sex_of_casualty\": null}]}, {\"name\": \"source_0_color_domain_casualty_severity\", \"values\": [{\"casualty_severity\": 3}, {\"casualty_severity\": 2}, {\"casualty_severity\": 1}]}], \"signals\": [{\"name\": \"x_step\", \"value\": 20}, {\"name\": \"width\", \"update\": \"bandspace(domain('x').length, 0.1, 0.05) * x_step\"}, {\"name\": \"unit\", \"value\": {}, \"on\": [{\"events\": \"pointermove\", \"update\": \"isTuple(group()) ? group() : unit\"}]}, {\"name\": \"param_7\", \"update\": \"vlSelectionResolve(\\\"param_7_store\\\", \\\"union\\\")\"}, {\"name\": \"param_7_sex_of_casualty\", \"on\": [{\"events\": [{\"source\": \"view\", \"type\": \"dblclick\"}], \"update\": \"null\"}, {\"events\": {\"signal\": \"param_7_translate_delta\"}, \"update\": \"panLinear(param_7_translate_anchor.extent_x, -param_7_translate_delta.x / width)\"}, {\"events\": {\"signal\": \"param_7_zoom_delta\"}, \"update\": \"zoomLinear(domain(\\\"x\\\"), param_7_zoom_anchor.x, param_7_zoom_delta)\"}]}, {\"name\": \"param_7_tuple\", \"on\": [{\"events\": [{\"signal\": \"param_7_sex_of_casualty\"}], \"update\": \"param_7_sex_of_casualty ? {unit: \\\"\\\", fields: param_7_tuple_fields, values: [param_7_sex_of_casualty]} : null\"}]}, {\"name\": \"param_7_tuple_fields\", \"value\": [{\"field\": \"sex_of_casualty\", \"channel\": \"x\", \"type\": \"E\"}]}, {\"name\": \"param_7_translate_anchor\", \"value\": {}, \"on\": [{\"events\": [{\"source\": \"scope\", \"type\": \"pointerdown\"}], \"update\": \"{x: x(unit), y: y(unit), extent_x: domain(\\\"x\\\")}\"}]}, {\"name\": \"param_7_translate_delta\", \"value\": {}, \"on\": [{\"events\": [{\"source\": \"window\", \"between\": [{\"source\": \"scope\", \"type\": \"pointerdown\"}, {\"source\": \"window\", \"type\": \"pointerup\"}], \"type\": \"pointermove\", \"consume\": true}], \"update\": \"{x: param_7_translate_anchor.x - x(unit), y: param_7_translate_anchor.y - y(unit)}\"}]}, {\"name\": \"param_7_zoom_anchor\", \"on\": [{\"events\": [{\"source\": \"scope\", \"consume\": true, \"type\": \"wheel\"}], \"update\": \"{x: invert(\\\"x\\\", x(unit)), y: invert(\\\"y\\\", y(unit))}\"}]}, {\"name\": \"param_7_zoom_delta\", \"on\": [{\"events\": [{\"source\": \"scope\", \"consume\": true, \"type\": \"wheel\"}], \"update\": \"pow(1.001, event.deltaY * pow(16, event.deltaMode))\", \"force\": true}]}, {\"name\": \"param_7_modify\", \"on\": [{\"events\": {\"signal\": \"param_7_tuple\"}, \"update\": \"modify(\\\"param_7_store\\\", param_7_tuple, true)\"}]}], \"marks\": [{\"type\": \"rect\", \"name\": \"marks\", \"from\": {\"data\": \"source_0\"}, \"encode\": {\"update\": {\"y2\": {\"field\": \"__count_start\", \"scale\": \"y\"}, \"x\": {\"field\": \"sex_of_casualty\", \"scale\": \"x\"}, \"y\": {\"field\": \"__count_end\", \"scale\": \"y\"}, \"tooltip\": {\"signal\": \"{\\\"sex_of_casualty\\\": isValid(datum[\\\"sex_of_casualty\\\"]) ? datum[\\\"sex_of_casualty\\\"] : \\\"\\\"+datum[\\\"sex_of_casualty\\\"], \\\"casualty_severity\\\": format(datum[\\\"casualty_severity\\\"], \\\"\\\"), \\\"Count of Records\\\": format(datum[\\\"__count\\\"], \\\"\\\")}\"}, \"fill\": {\"field\": \"casualty_severity\", \"scale\": \"color\"}, \"width\": {\"signal\": \"max(0.25, bandwidth('x'))\"}}}, \"interactive\": true, \"style\": [\"bar\"]}], \"scales\": [{\"name\": \"x\", \"type\": \"band\", \"domain\": {\"data\": \"source_0_x_domain_sex_of_casualty\", \"field\": \"sex_of_casualty\", \"sort\": true}, \"range\": {\"step\": {\"signal\": \"x_step\"}}, \"paddingInner\": 0.1, \"paddingOuter\": 0.05}, {\"name\": \"y\", \"type\": \"linear\", \"domain\": {\"data\": \"source_0\", \"fields\": [\"__count_start\", \"__count_end\"]}, \"range\": [{\"signal\": \"height\"}, 0], \"zero\": true, \"nice\": true}, {\"name\": \"color\", \"type\": \"ordinal\", \"domain\": {\"data\": \"source_0_color_domain_casualty_severity\", \"field\": \"casualty_severity\", \"sort\": true}, \"range\": \"category\"}], \"axes\": [{\"scale\": \"y\", \"grid\": true, \"labels\": false, \"orient\": \"left\", \"maxExtent\": 0, \"ticks\": false, \"aria\": false, \"tickCount\": {\"signal\": \"ceil(height/40)\"}, \"domain\": false, \"minExtent\": 0, \"zindex\": 0, \"gridScale\": \"x\"}, {\"scale\": \"x\", \"grid\": false, \"orient\": \"bottom\", \"labelAngle\": 315, \"labelAlign\": \"right\", \"labelBaseline\": \"top\", \"zindex\": 0, \"title\": \"Sexo\"}, {\"scale\": \"y\", \"orient\": \"left\", \"tickCount\": {\"signal\": \"ceil(height/40)\"}, \"zindex\": 0, \"title\": \"Contagem\", \"grid\": false, \"labelOverlap\": true}], \"title\": {\"text\": \"Gravidade dos Acidentes por Sexo\", \"frame\": \"group\"}, \"background\": \"white\", \"style\": \"cell\", \"padding\": 5, \"legends\": [{\"title\": \"Gravidade\", \"fill\": \"color\", \"symbolType\": \"square\"}], \"height\": 300}, {\"mode\": \"vega\"});\n",
       "</script>"
      ],
      "text/plain": [
       "alt.Chart(...)"
      ]
     },
     "metadata": {},
     "output_type": "display_data"
    }
   ],
   "source": [
    "# Habilita o VegaFusion Data Transformer\n",
    "alt.data_transformers.enable('vegafusion')\n",
    "\n",
    "# ... (seu código para criar df_sampled OU df_agg, escolha um dos dois)\n",
    "\n",
    "# Cria o gráfico com os dados preparados (df_sampled ou df_agg)\n",
    "bar_chart_severity_sex = alt.Chart(df_sampled).mark_bar().encode(\n",
    "    x=alt.X('sex_of_casualty:N', axis=alt.Axis(labelAngle=-45), title='Sexo'),\n",
    "    y=alt.Y('count()', title='Contagem'),  # ou 'count:Q' se usar df_agg\n",
    "    color=alt.Color('casualty_severity:N', title='Gravidade'),\n",
    "    tooltip=['sex_of_casualty', 'casualty_severity', 'count()']  # ou 'count' se usar df_agg\n",
    ").properties(\n",
    "    title='Gravidade dos Acidentes por Sexo'\n",
    ").interactive()\n",
    "\n",
    "bar_chart_severity_sex.display()"
   ]
  },
  {
   "cell_type": "markdown",
   "metadata": {},
   "source": [
    ">    Similar à análise por sexo, mas agora agrupando por faixa etária (age_band_of_casualty)."
   ]
  },
  {
   "cell_type": "code",
   "execution_count": null,
   "metadata": {},
   "outputs": [
    {
     "name": "stdout",
     "output_type": "stream",
     "text": [
      "Contagem de acidentes por gravidade e faixa etária:\n",
      "age_band_of_casualty   1     2     3     4     5      6     7     8     9   \\\n",
      "casualty_severity                                                            \n",
      "1                       9     0    11    77    71    153    94    95    90   \n",
      "2                     159   245   622  1312  1212   2152  1581  1503  1363   \n",
      "3                     829  1330  2352  4939  5447  10567  7732  6244  4389   \n",
      "\n",
      "age_band_of_casualty    10    11  \n",
      "casualty_severity                 \n",
      "1                       79   108  \n",
      "2                      784   707  \n",
      "3                     2119  1627  \n",
      "\n",
      "Frequência relativa de acidentes por gravidade e faixa etária:\n",
      "age_band_of_casualty        1         2         3          4          5   \\\n",
      "casualty_severity                                                          \n",
      "1                     1.143583  0.000000  1.397713   9.783990   9.021601   \n",
      "2                     1.365979  2.104811  5.343643  11.271478  10.412371   \n",
      "3                     1.742512  2.795586  4.943773  10.381503  11.449291   \n",
      "\n",
      "age_band_of_casualty         6          7          8          9          10  \\\n",
      "casualty_severity                                                             \n",
      "1                     19.440915  11.944091  12.071156  11.435832  10.038119   \n",
      "2                     18.487973  13.582474  12.912371  11.709622   6.735395   \n",
      "3                     22.211245  16.252233  13.124540   9.225434   4.454020   \n",
      "\n",
      "age_band_of_casualty         11  \n",
      "casualty_severity                \n",
      "1                     13.722999  \n",
      "2                      6.073883  \n",
      "3                      3.419863  \n"
     ]
    }
   ],
   "source": [
    "# Análise e Visualização da Gravidade dos Acidentes por Faixa Etária\n",
    "severity_age_contingency = pd.crosstab(df_filtered['casualty_severity'], df_filtered['age_band_of_casualty'])\n",
    "severity_age_rate = severity_age_contingency.apply(lambda r: r/r.sum()*100, axis=1)\n",
    "print(\"Contagem de acidentes por gravidade e faixa etária:\")\n",
    "print(severity_age_contingency)\n",
    "print(\"\\nFrequência relativa de acidentes por gravidade e faixa etária:\")\n",
    "print(severity_age_rate)"
   ]
  },
  {
   "cell_type": "markdown",
   "metadata": {},
   "source": [
    ">   Similar ao gráfico de barras por sexo, mas agora agrupando por faixa etária (age_band_of_casualty)."
   ]
  },
  {
   "cell_type": "code",
   "execution_count": null,
   "metadata": {},
   "outputs": [
    {
     "data": {
      "text/html": [
       "\n",
       "<style>\n",
       "  #altair-viz-ab6d1b966d024f4da0e2124c869cdad2.vega-embed {\n",
       "    width: 100%;\n",
       "    display: flex;\n",
       "  }\n",
       "\n",
       "  #altair-viz-ab6d1b966d024f4da0e2124c869cdad2.vega-embed details,\n",
       "  #altair-viz-ab6d1b966d024f4da0e2124c869cdad2.vega-embed details summary {\n",
       "    position: relative;\n",
       "  }\n",
       "</style>\n",
       "<div id=\"altair-viz-ab6d1b966d024f4da0e2124c869cdad2\"></div>\n",
       "<script type=\"text/javascript\">\n",
       "  var VEGA_DEBUG = (typeof VEGA_DEBUG == \"undefined\") ? {} : VEGA_DEBUG;\n",
       "  (function(spec, embedOpt){\n",
       "    let outputDiv = document.currentScript.previousElementSibling;\n",
       "    if (outputDiv.id !== \"altair-viz-ab6d1b966d024f4da0e2124c869cdad2\") {\n",
       "      outputDiv = document.getElementById(\"altair-viz-ab6d1b966d024f4da0e2124c869cdad2\");\n",
       "    }\n",
       "    const paths = {\n",
       "      \"vega\": \"https://cdn.jsdelivr.net/npm/vega@5?noext\",\n",
       "      \"vega-lib\": \"https://cdn.jsdelivr.net/npm/vega-lib?noext\",\n",
       "      \"vega-lite\": \"https://cdn.jsdelivr.net/npm/vega-lite@5.17.0?noext\",\n",
       "      \"vega-embed\": \"https://cdn.jsdelivr.net/npm/vega-embed@6?noext\",\n",
       "    };\n",
       "\n",
       "    function maybeLoadScript(lib, version) {\n",
       "      var key = `${lib.replace(\"-\", \"\")}_version`;\n",
       "      return (VEGA_DEBUG[key] == version) ?\n",
       "        Promise.resolve(paths[lib]) :\n",
       "        new Promise(function(resolve, reject) {\n",
       "          var s = document.createElement('script');\n",
       "          document.getElementsByTagName(\"head\")[0].appendChild(s);\n",
       "          s.async = true;\n",
       "          s.onload = () => {\n",
       "            VEGA_DEBUG[key] = version;\n",
       "            return resolve(paths[lib]);\n",
       "          };\n",
       "          s.onerror = () => reject(`Error loading script: ${paths[lib]}`);\n",
       "          s.src = paths[lib];\n",
       "        });\n",
       "    }\n",
       "\n",
       "    function showError(err) {\n",
       "      outputDiv.innerHTML = `<div class=\"error\" style=\"color:red;\">${err}</div>`;\n",
       "      throw err;\n",
       "    }\n",
       "\n",
       "    function displayChart(vegaEmbed) {\n",
       "      vegaEmbed(outputDiv, spec, embedOpt)\n",
       "        .catch(err => showError(`Javascript Error: ${err.message}<br>This usually means there's a typo in your chart specification. See the javascript console for the full traceback.`));\n",
       "    }\n",
       "\n",
       "    if(typeof define === \"function\" && define.amd) {\n",
       "      requirejs.config({paths});\n",
       "      require([\"vega-embed\"], displayChart, err => showError(`Error loading script: ${err.message}`));\n",
       "    } else {\n",
       "      maybeLoadScript(\"vega\", \"5\")\n",
       "        .then(() => maybeLoadScript(\"vega-lite\", \"5.17.0\"))\n",
       "        .then(() => maybeLoadScript(\"vega-embed\", \"6\"))\n",
       "        .catch(showError)\n",
       "        .then(() => displayChart(vegaEmbed));\n",
       "    }\n",
       "  })({\"$schema\": \"https://vega.github.io/schema/vega/v5.json\", \"data\": [{\"name\": \"param_8_store\"}, {\"name\": \"source_0\", \"values\": [{\"__count\": 6244, \"__count_end\": 6244.0, \"__count_start\": 0.0, \"age_band_of_casualty\": 8, \"casualty_severity\": 3}, {\"__count\": 10567, \"__count_end\": 10567.0, \"__count_start\": 0.0, \"age_band_of_casualty\": 6, \"casualty_severity\": 3}, {\"__count\": 4389, \"__count_end\": 4389.0, \"__count_start\": 0.0, \"age_band_of_casualty\": 9, \"casualty_severity\": 3}, {\"__count\": 1627, \"__count_end\": 1627.0, \"__count_start\": 0.0, \"age_band_of_casualty\": 11, \"casualty_severity\": 3}, {\"__count\": 4939, \"__count_end\": 4939.0, \"__count_start\": 0.0, \"age_band_of_casualty\": 4, \"casualty_severity\": 3}, {\"__count\": 784, \"__count_end\": 2903.0, \"__count_start\": 2119.0, \"age_band_of_casualty\": 10, \"casualty_severity\": 2}, {\"__count\": 1503, \"__count_end\": 7747.0, \"__count_start\": 6244.0, \"age_band_of_casualty\": 8, \"casualty_severity\": 2}, {\"__count\": 2352, \"__count_end\": 2352.0, \"__count_start\": 0.0, \"age_band_of_casualty\": 3, \"casualty_severity\": 3}, {\"__count\": 7732, \"__count_end\": 7732.0, \"__count_start\": 0.0, \"age_band_of_casualty\": 7, \"casualty_severity\": 3}, {\"__count\": 2152, \"__count_end\": 12719.0, \"__count_start\": 10567.0, \"age_band_of_casualty\": 6, \"casualty_severity\": 2}, {\"__count\": 1330, \"__count_end\": 1330.0, \"__count_start\": 0.0, \"age_band_of_casualty\": 2, \"casualty_severity\": 3}, {\"__count\": 5447, \"__count_end\": 5447.0, \"__count_start\": 0.0, \"age_band_of_casualty\": 5, \"casualty_severity\": 3}, {\"__count\": 1312, \"__count_end\": 6251.0, \"__count_start\": 4939.0, \"age_band_of_casualty\": 4, \"casualty_severity\": 2}, {\"__count\": 1212, \"__count_end\": 6659.0, \"__count_start\": 5447.0, \"age_band_of_casualty\": 5, \"casualty_severity\": 2}, {\"__count\": 829, \"__count_end\": 829.0, \"__count_start\": 0.0, \"age_band_of_casualty\": 1, \"casualty_severity\": 3}, {\"__count\": 2119, \"__count_end\": 2119.0, \"__count_start\": 0.0, \"age_band_of_casualty\": 10, \"casualty_severity\": 3}, {\"__count\": 707, \"__count_end\": 2334.0, \"__count_start\": 1627.0, \"age_band_of_casualty\": 11, \"casualty_severity\": 2}, {\"__count\": 1363, \"__count_end\": 5752.0, \"__count_start\": 4389.0, \"age_band_of_casualty\": 9, \"casualty_severity\": 2}, {\"__count\": 1581, \"__count_end\": 9313.0, \"__count_start\": 7732.0, \"age_band_of_casualty\": 7, \"casualty_severity\": 2}, {\"__count\": 622, \"__count_end\": 2974.0, \"__count_start\": 2352.0, \"age_band_of_casualty\": 3, \"casualty_severity\": 2}, {\"__count\": 245, \"__count_end\": 1575.0, \"__count_start\": 1330.0, \"age_band_of_casualty\": 2, \"casualty_severity\": 2}, {\"__count\": 159, \"__count_end\": 988.0, \"__count_start\": 829.0, \"age_band_of_casualty\": 1, \"casualty_severity\": 2}, {\"__count\": 94, \"__count_end\": 9407.0, \"__count_start\": 9313.0, \"age_band_of_casualty\": 7, \"casualty_severity\": 1}, {\"__count\": 79, \"__count_end\": 2982.0, \"__count_start\": 2903.0, \"age_band_of_casualty\": 10, \"casualty_severity\": 1}, {\"__count\": 153, \"__count_end\": 12872.0, \"__count_start\": 12719.0, \"age_band_of_casualty\": 6, \"casualty_severity\": 1}, {\"__count\": 90, \"__count_end\": 5842.0, \"__count_start\": 5752.0, \"age_band_of_casualty\": 9, \"casualty_severity\": 1}, {\"__count\": 108, \"__count_end\": 2442.0, \"__count_start\": 2334.0, \"age_band_of_casualty\": 11, \"casualty_severity\": 1}, {\"__count\": 95, \"__count_end\": 7842.0, \"__count_start\": 7747.0, \"age_band_of_casualty\": 8, \"casualty_severity\": 1}, {\"__count\": 77, \"__count_end\": 6328.0, \"__count_start\": 6251.0, \"age_band_of_casualty\": 4, \"casualty_severity\": 1}, {\"__count\": 71, \"__count_end\": 6730.0, \"__count_start\": 6659.0, \"age_band_of_casualty\": 5, \"casualty_severity\": 1}, {\"__count\": 9, \"__count_end\": 997.0, \"__count_start\": 988.0, \"age_band_of_casualty\": 1, \"casualty_severity\": 1}, {\"__count\": 11, \"__count_end\": 2985.0, \"__count_start\": 2974.0, \"age_band_of_casualty\": 3, \"casualty_severity\": 1}]}, {\"name\": \"source_0_x_domain_age_band_of_casualty\", \"values\": [{\"age_band_of_casualty\": 8}, {\"age_band_of_casualty\": 6}, {\"age_band_of_casualty\": 9}, {\"age_band_of_casualty\": 11}, {\"age_band_of_casualty\": 4}, {\"age_band_of_casualty\": 10}, {\"age_band_of_casualty\": 3}, {\"age_band_of_casualty\": 7}, {\"age_band_of_casualty\": 2}, {\"age_band_of_casualty\": 5}, {\"age_band_of_casualty\": 1}]}, {\"name\": \"source_0_color_domain_casualty_severity\", \"values\": [{\"casualty_severity\": 3}, {\"casualty_severity\": 2}, {\"casualty_severity\": 1}]}], \"signals\": [{\"name\": \"x_step\", \"value\": 20}, {\"name\": \"width\", \"update\": \"bandspace(domain('x').length, 0.1, 0.05) * x_step\"}, {\"name\": \"unit\", \"value\": {}, \"on\": [{\"events\": \"pointermove\", \"update\": \"isTuple(group()) ? group() : unit\"}]}, {\"name\": \"param_8\", \"update\": \"vlSelectionResolve(\\\"param_8_store\\\", \\\"union\\\")\"}, {\"name\": \"param_8_age_band_of_casualty\", \"on\": [{\"events\": [{\"source\": \"view\", \"type\": \"dblclick\"}], \"update\": \"null\"}, {\"events\": {\"signal\": \"param_8_translate_delta\"}, \"update\": \"panLinear(param_8_translate_anchor.extent_x, -param_8_translate_delta.x / width)\"}, {\"events\": {\"signal\": \"param_8_zoom_delta\"}, \"update\": \"zoomLinear(domain(\\\"x\\\"), param_8_zoom_anchor.x, param_8_zoom_delta)\"}]}, {\"name\": \"param_8_tuple\", \"on\": [{\"events\": [{\"signal\": \"param_8_age_band_of_casualty\"}], \"update\": \"param_8_age_band_of_casualty ? {unit: \\\"\\\", fields: param_8_tuple_fields, values: [param_8_age_band_of_casualty]} : null\"}]}, {\"name\": \"param_8_tuple_fields\", \"value\": [{\"field\": \"age_band_of_casualty\", \"channel\": \"x\", \"type\": \"E\"}]}, {\"name\": \"param_8_translate_anchor\", \"value\": {}, \"on\": [{\"events\": [{\"source\": \"scope\", \"type\": \"pointerdown\"}], \"update\": \"{x: x(unit), y: y(unit), extent_x: domain(\\\"x\\\")}\"}]}, {\"name\": \"param_8_translate_delta\", \"value\": {}, \"on\": [{\"events\": [{\"source\": \"window\", \"between\": [{\"source\": \"scope\", \"type\": \"pointerdown\"}, {\"source\": \"window\", \"type\": \"pointerup\"}], \"type\": \"pointermove\", \"consume\": true}], \"update\": \"{x: param_8_translate_anchor.x - x(unit), y: param_8_translate_anchor.y - y(unit)}\"}]}, {\"name\": \"param_8_zoom_anchor\", \"on\": [{\"events\": [{\"source\": \"scope\", \"type\": \"wheel\", \"consume\": true}], \"update\": \"{x: invert(\\\"x\\\", x(unit)), y: invert(\\\"y\\\", y(unit))}\"}]}, {\"name\": \"param_8_zoom_delta\", \"on\": [{\"events\": [{\"source\": \"scope\", \"consume\": true, \"type\": \"wheel\"}], \"update\": \"pow(1.001, event.deltaY * pow(16, event.deltaMode))\", \"force\": true}]}, {\"name\": \"param_8_modify\", \"on\": [{\"events\": {\"signal\": \"param_8_tuple\"}, \"update\": \"modify(\\\"param_8_store\\\", param_8_tuple, true)\"}]}], \"marks\": [{\"type\": \"rect\", \"name\": \"marks\", \"from\": {\"data\": \"source_0\"}, \"encode\": {\"update\": {\"x\": {\"field\": \"age_band_of_casualty\", \"scale\": \"x\"}, \"y2\": {\"field\": \"__count_start\", \"scale\": \"y\"}, \"tooltip\": {\"signal\": \"{\\\"age_band_of_casualty\\\": format(datum[\\\"age_band_of_casualty\\\"], \\\"\\\"), \\\"casualty_severity\\\": format(datum[\\\"casualty_severity\\\"], \\\"\\\"), \\\"Count of Records\\\": format(datum[\\\"__count\\\"], \\\"\\\")}\"}, \"y\": {\"field\": \"__count_end\", \"scale\": \"y\"}, \"width\": {\"signal\": \"max(0.25, bandwidth('x'))\"}, \"fill\": {\"field\": \"casualty_severity\", \"scale\": \"color\"}}}, \"interactive\": true, \"style\": [\"bar\"]}], \"scales\": [{\"name\": \"x\", \"type\": \"band\", \"domain\": {\"data\": \"source_0_x_domain_age_band_of_casualty\", \"field\": \"age_band_of_casualty\", \"sort\": true}, \"range\": {\"step\": {\"signal\": \"x_step\"}}, \"paddingOuter\": 0.05, \"paddingInner\": 0.1}, {\"name\": \"y\", \"type\": \"linear\", \"domain\": {\"data\": \"source_0\", \"fields\": [\"__count_start\", \"__count_end\"]}, \"range\": [{\"signal\": \"height\"}, 0], \"zero\": true, \"nice\": true}, {\"name\": \"color\", \"type\": \"ordinal\", \"domain\": {\"data\": \"source_0_color_domain_casualty_severity\", \"field\": \"casualty_severity\", \"sort\": true}, \"range\": \"category\"}], \"axes\": [{\"scale\": \"y\", \"minExtent\": 0, \"aria\": false, \"tickCount\": {\"signal\": \"ceil(height/40)\"}, \"ticks\": false, \"zindex\": 0, \"gridScale\": \"x\", \"orient\": \"left\", \"grid\": true, \"domain\": false, \"labels\": false, \"maxExtent\": 0}, {\"scale\": \"x\", \"orient\": \"bottom\", \"title\": \"Faixa Et\\u00e1ria\", \"grid\": false, \"labelAngle\": 315, \"labelAlign\": \"right\", \"labelBaseline\": \"top\", \"zindex\": 0}, {\"scale\": \"y\", \"title\": \"Contagem\", \"labelOverlap\": true, \"zindex\": 0, \"orient\": \"left\", \"grid\": false, \"tickCount\": {\"signal\": \"ceil(height/40)\"}}], \"title\": {\"text\": \"Gravidade dos Acidentes por Faixa Et\\u00e1ria\", \"frame\": \"group\"}, \"background\": \"white\", \"padding\": 5, \"style\": \"cell\", \"legends\": [{\"title\": \"Gravidade\", \"fill\": \"color\", \"symbolType\": \"square\"}], \"height\": 300}, {\"mode\": \"vega\"});\n",
       "</script>"
      ],
      "text/plain": [
       "alt.Chart(...)"
      ]
     },
     "metadata": {},
     "output_type": "display_data"
    }
   ],
   "source": [
    "\n",
    "# Gráfico de barras empilhadas para gravidade por faixa etária\n",
    "bar_chart_severity_age = alt.Chart(df_filtered).mark_bar().encode(\n",
    "    x=alt.X('age_band_of_casualty:N', axis=alt.Axis(labelAngle=-45), title='Faixa Etária'),\n",
    "    y=alt.Y('count()', title='Contagem'),\n",
    "    color=alt.Color('casualty_severity:N', title='Gravidade'),\n",
    "    tooltip=['age_band_of_casualty', 'casualty_severity', 'count()']\n",
    ").properties(\n",
    "    title='Gravidade dos Acidentes por Faixa Etária'\n",
    ").interactive()\n",
    "\n",
    "bar_chart_severity_age.display()"
   ]
  },
  {
   "cell_type": "markdown",
   "metadata": {},
   "source": [
    ">   groupby('casualty_severity')['age_of_casualty'].agg(['mean', 'std']): Agrupa os dados por gravidade (casualty_severity) e calcula a média e o desvio padrão da idade das vítimas (age_of_casualty).\n",
    ">   reset_index(): Reseta o índice do DataFrame para torná-lo mais legível.\n",
    ">   print: Exibe as estatísticas calculadas"
   ]
  },
  {
   "cell_type": "code",
   "execution_count": null,
   "metadata": {},
   "outputs": [
    {
     "name": "stdout",
     "output_type": "stream",
     "text": [
      "\n",
      "Média e Desvio Padrão da Idade das Vítimas por Gravidade:\n",
      "   casualty_severity       mean        std\n",
      "0                  1  46.461245  22.316927\n",
      "1                  2  39.775773  20.485345\n",
      "2                  3  36.817488  18.411480\n"
     ]
    }
   ],
   "source": [
    "# Medidas Estatísticas por Gravidade\n",
    "# Média e Desvio Padrão da Idade das Vítimas para Cada Nível de Gravidade\n",
    "severity_age_stats = df_filtered.groupby('casualty_severity')['age_of_casualty'].agg(['mean', 'std']).reset_index()\n",
    "print(\"\\nMédia e Desvio Padrão da Idade das Vítimas por Gravidade:\")\n",
    "print(severity_age_stats)\n"
   ]
  },
  {
   "cell_type": "markdown",
   "metadata": {},
   "source": [
    ">   plt.figure(figsize=(12, 6)): Cria uma figura com tamanho especificado.\n",
    ">   sns.barplot: Cria um gráfico de barras mostrando a média da idade das vítimas por gravidade.\n",
    ">   plt.errorbar: Adiciona barras de erro ao gráfico para representar o desvio padrão.\n",
    ">   plt.title, plt.xlabel, plt.ylabel: Define o título do gráfico e os rótulos dos eixos.\n",
    ">   plt.show(): Exibe o gráfico."
   ]
  },
  {
   "cell_type": "code",
   "execution_count": null,
   "metadata": {},
   "outputs": [
    {
     "data": {
      "image/png": "[encoded data removed]",
      "text/plain": [
       "<Figure size 1200x600 with 1 Axes>"
      ]
     },
     "metadata": {},
     "output_type": "display_data"
    }
   ],
   "source": [
    "# Visualização da Média e Desvio Padrão da Idade das Vítimas por Gravidade\n",
    "plt.figure(figsize=(12, 6))\n",
    "sns.barplot(x='casualty_severity', y='mean', data=severity_age_stats)\n",
    "plt.errorbar(x=range(len(severity_age_stats)), y=severity_age_stats['mean'], yerr=severity_age_stats['std'], fmt='none', c='black', capsize=5)\n",
    "plt.title('Média e Desvio Padrão da Idade das Vítimas por Gravidade')\n",
    "plt.xlabel('Gravidade')\n",
    "plt.ylabel('Idade Média das Vítimas')\n",
    "plt.show()"
   ]
  }
 ],
 "metadata": {
  "kernelspec": {
   "display_name": "Python 3",
   "language": "python",
   "name": "python3"
  },
  "language_info": {
   "codemirror_mode": {
    "name": "ipython",
    "version": 3
   },
   "file_extension": ".py",
   "mimetype": "text/x-python",
   "name": "python",
   "nbconvert_exporter": "python",
   "pygments_lexer": "ipython3",
   "version": "3.12.3"
  }
 },
 "nbformat": 4,
 "nbformat_minor": 2
}
